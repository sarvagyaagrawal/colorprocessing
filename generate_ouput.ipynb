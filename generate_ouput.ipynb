{
 "cells": [
  {
   "cell_type": "code",
   "execution_count": 17,
   "metadata": {},
   "outputs": [],
   "source": [
    "import requests\n",
    "import json"
   ]
  },
  {
   "cell_type": "code",
   "execution_count": 5,
   "metadata": {},
   "outputs": [],
   "source": [
    "URLS=['https://storage.googleapis.com/bizupimg/profile_photo/WhatsApp%20Image%202020-08-23%20at%203.11.46%20PM%20-%20Himanshu%20Kohli.jpeg','https://storage.googleapis.com/bizupimg/profile_photo/918527129869%20instagram-logo-png-2451.png','https://storage.googleapis.com/bizupimg/profile_photo/bhawya_logo.jpeg','https://storage.googleapis.com/bizupimg/profile_photo/kppl_logo.png']"
   ]
  },
  {
   "cell_type": "code",
   "execution_count": 19,
   "metadata": {},
   "outputs": [],
   "source": [
    "f = open(\"test_outputs.md\",\"w\")"
   ]
  },
  {
   "cell_type": "code",
   "execution_count": 20,
   "metadata": {},
   "outputs": [
    {
     "name": "stdout",
     "output_type": "stream",
     "text": [
      "{'logo_border': '#98f721', 'dominant_color': '#97fb05'}\n",
      "{'logo_border': '#000000', 'dominant_color': '#000000'}\n",
      "{'logo_border': '#98c22b', 'dominant_color': '#c5041b'}\n",
      "{'logo_border': '#000000', 'dominant_color': '#030140'}\n"
     ]
    }
   ],
   "source": [
    "param={}\n",
    "list=[]\n",
    "main='http://127.0.0.1:8000/'\n",
    "for url in URLS:\n",
    "    temp_dict={}\n",
    "    param['src']=url\n",
    "    requestURL=requests.get(main, params=param)\n",
    "    data=requestURL.json()\n",
    "    temp_dict['logo_border']=data['logo_border']\n",
    "    temp_dict['dominant_color']=data['dominant_color']\n",
    "    print(temp_dict)\n",
    "    list.append(temp_dict)"
   ]
  },
  {
   "cell_type": "code",
   "execution_count": 21,
   "metadata": {},
   "outputs": [],
   "source": [
    "f.write( str(list) )\n",
    "f.close()"
   ]
  }
 ],
 "metadata": {
  "kernelspec": {
   "display_name": "Python 3",
   "language": "python",
   "name": "python3"
  },
  "language_info": {
   "codemirror_mode": {
    "name": "ipython",
    "version": 3
   },
   "file_extension": ".py",
   "mimetype": "text/x-python",
   "name": "python",
   "nbconvert_exporter": "python",
   "pygments_lexer": "ipython3",
   "version": "3.8.3"
  }
 },
 "nbformat": 4,
 "nbformat_minor": 4
}
